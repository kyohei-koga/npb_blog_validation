{
 "cells": [
  {
   "cell_type": "code",
   "execution_count": 1,
   "metadata": {},
   "outputs": [],
   "source": [
    "import requests\n",
    "import lxml.html\n",
    "import time\n",
    "import sqlite3"
   ]
  },
  {
   "cell_type": "code",
   "execution_count": 54,
   "metadata": {},
   "outputs": [
    {
     "data": {
      "text/plain": [
       "<sqlite3.Cursor at 0x7ff1524e2e30>"
      ]
     },
     "execution_count": 54,
     "metadata": {},
     "output_type": "execute_result"
    }
   ],
   "source": [
    "# 列を追加。使用済みかどうかをチェック\n",
    "# c.execute('alter table colums add column use interger')"
   ]
  },
  {
   "cell_type": "code",
   "execution_count": 5,
   "metadata": {},
   "outputs": [
    {
     "name": "stdout",
     "output_type": "stream",
     "text": [
      "https://sports.yahoo.co.jp/column/detail/201805290001-spnavi?p=1\n",
      "0\n"
     ]
    }
   ],
   "source": [
    "conn = sqlite3.connect('sponavi_colum.db')\n",
    "\n",
    "c = conn.cursor()  # カーソルを取得する。\n",
    "\n",
    "# c.execute('DROP TABLE IF EXISTS colums')\n",
    "\n",
    "# # columsテーブルを作成する。\n",
    "# c.execute('''\n",
    "#     CREATE TABLE colums (\n",
    "#         URL text primary key,\n",
    "#         Title text,\n",
    "#         postdate text,\n",
    "#         credit text,\n",
    "#         author text,\n",
    "#         article text\n",
    "#      )\n",
    "\n",
    "#  ''')\n",
    "\n",
    "# 記事が重複するとエラーを起こすので、エラー処理。\n",
    "\n",
    "for i,row in enumerate(clowl_sponavi_colum(c)):\n",
    "    print(i)\n",
    "    try:\n",
    "        c.execute('INSERT INTO colums (URL, Title, postdate, credit, author, article) VALUES (:URL, :Title, :postdate, :credit, :author, :article)', row)\n",
    "    except:\n",
    "        pass"
   ]
  },
  {
   "cell_type": "markdown",
   "metadata": {},
   "source": [
    "- 1page目 https://sports.yahoo.co.jp/column/list?category=/baseball&id=/npb\n",
    "- 2page以降 https://sports.yahoo.co.jp/column/list?type=sportsnavi&id=%2Fnpb&category=%2Fbaseball&p=2"
   ]
  },
  {
   "cell_type": "code",
   "execution_count": 53,
   "metadata": {},
   "outputs": [],
   "source": [
    "def clowl_sponavi_colum(cursor):\n",
    "    for i in range(2):\n",
    "        if i==0:\n",
    "            # コンテンツのURLの一覧を取得\n",
    "            htmls = parse_unit_page('https://sports.yahoo.co.jp/column/list?category=/baseball&id=/npb')\n",
    "            for html in htmls:\n",
    "                # すでに登録されている場合は詳細ページの処理はしない\n",
    "                url = html.get('href')+'?p=1'\n",
    "                cursor.execute('select count(*) from colums where URL=\"{}\"'.format(url))\n",
    "                if cursor.fetchall()[0][0]==0:\n",
    "                    yield parse_unit_blog(html)\n",
    "                else:\n",
    "#                     print('ignore')\n",
    "                    pass\n",
    "        else:\n",
    "            # コンテンツURLの一覧を取得\n",
    "            htmls = parse_unit_page('https://sports.yahoo.co.jp/column/list?type=sportsnavi&id=%2Fnpb&category=%2Fbaseball&p='+str(i+1))\n",
    "            for html in htmls:\n",
    "                # すでに登録されている場合は詳細ページの処理はしない\n",
    "                url = html.get('href')+'?p=1'\n",
    "                cursor.execute('select count(*) from colums where URL=\"{}\"'.format(url))\n",
    "                if cursor.fetchall()[0][0]==0:\n",
    "                    yield parse_unit_blog(html)\n",
    "                else:\n",
    "#                     print('ignore')\n",
    "                    pass"
   ]
  },
  {
   "cell_type": "code",
   "execution_count": 3,
   "metadata": {},
   "outputs": [],
   "source": [
    "# 1つの一覧ページを処理する。\n",
    "def parse_unit_page(url):\n",
    "    response = requests.get(url)\n",
    "    parser = lxml.html.HTMLParser(encoding='utf-8')  # 文字コードの処理\n",
    "    root = lxml.html.fromstring(response.content, parser=parser)\n",
    "    return root.cssselect('p.articleTitle > a')  # コンテンツのURlを取得"
   ]
  },
  {
   "cell_type": "code",
   "execution_count": 4,
   "metadata": {},
   "outputs": [],
   "source": [
    "# 一つのブログを処理する。\n",
    "def parse_unit_blog(html):\n",
    "    blog_contents = {}\n",
    "    articles = []\n",
    "    for i in range(10):\n",
    "        time.sleep(2)\n",
    "        response = requests.get(html.get('href')+'?p={}'.format(i+1))\n",
    "#         response = requests.get(html+'?p={}'.format(i+1))\n",
    "        parser = lxml.html.HTMLParser(encoding='utf-8')  # 文字コードの指定\n",
    "        root = lxml.html.fromstring(response.content, parser=parser)\n",
    "        \n",
    "        \n",
    "        # もし記事の最終校を過ぎてしまっていたら、for文から脱出して、\n",
    "        # 著者情報を取得する。\n",
    "        if root.cssselect('title')[0].text_content()=='エラーページ - スポーツナビ':\n",
    "            if len(author)<=30:\n",
    "                blog_contents['author'] = author\n",
    "            else:\n",
    "                blog_contents['author'] = ''\n",
    "            \n",
    "            blog_contents['article'] = '\\n'.join(articles)\n",
    "            break\n",
    "        \n",
    "        # 1ページ目の処理\n",
    "        if i==0:\n",
    "            print(response.url)\n",
    "            blog_contents['URL'] = response.url\n",
    "            blog_contents['Title'] = root.cssselect('.columnTitle')[0].text_content().strip()\n",
    "            blog_contents['postdate'] = root.cssselect('.postDate')[0].text_content()\n",
    "            blog_contents['credit'] = root.cssselect('.credit')[0].text_content()\n",
    "        \n",
    "        for article in root.cssselect('.columArticle > p'):\n",
    "            articles.append(article.text_content())\n",
    "        #最後のページには著者情報が乗っていることがある。\n",
    "        else:\n",
    "            author = article.text_content()\n",
    "    \n",
    "    return blog_contents"
   ]
  },
  {
   "cell_type": "code",
   "execution_count": 64,
   "metadata": {},
   "outputs": [],
   "source": [
    "# データベースを閉じる\n",
    "conn.close()"
   ]
  },
  {
   "cell_type": "code",
   "execution_count": null,
   "metadata": {},
   "outputs": [],
   "source": []
  }
 ],
 "metadata": {
  "kernelspec": {
   "display_name": "Python 3",
   "language": "python",
   "name": "python3"
  },
  "language_info": {
   "codemirror_mode": {
    "name": "ipython",
    "version": 3
   },
   "file_extension": ".py",
   "mimetype": "text/x-python",
   "name": "python",
   "nbconvert_exporter": "python",
   "pygments_lexer": "ipython3",
   "version": "3.6.4"
  }
 },
 "nbformat": 4,
 "nbformat_minor": 2
}
