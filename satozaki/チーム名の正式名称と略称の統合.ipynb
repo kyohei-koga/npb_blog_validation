{
 "cells": [
  {
   "cell_type": "code",
   "execution_count": 1,
   "metadata": {},
   "outputs": [],
   "source": [
    "import sqlite3\n",
    "import pandas as pd\n",
    "import re\n",
    "import numpy as np"
   ]
  },
  {
   "cell_type": "markdown",
   "metadata": {},
   "source": [
    "選手成績に記載されているチーム名は勝敗表のチーム名の略称になっている。変換のための辞書を作成する必要がある。"
   ]
  },
  {
   "cell_type": "code",
   "execution_count": 2,
   "metadata": {},
   "outputs": [],
   "source": [
    "# データベースに接続\n",
    "conn = sqlite3.connect('players_info.db')\n",
    "c = conn.cursor()"
   ]
  },
  {
   "cell_type": "code",
   "execution_count": 3,
   "metadata": {
    "scrolled": true
   },
   "outputs": [
    {
     "data": {
      "text/plain": [
       "[('table',\n",
       "  'bios',\n",
       "  'bios',\n",
       "  2,\n",
       "  'CREATE TABLE \"bios\" (\\n\"index\" INTEGER,\\n  \"name\" TEXT,\\n  \"url\" TEXT,\\n  \"ドラフト\" TEXT,\\n  \"ポジション\" TEXT,\\n  \"投打\" TEXT,\\n  \"生年月日\" TEXT,\\n  \"経歴\" TEXT,\\n  \"身長／体重\" TEXT\\n)'),\n",
       " ('index',\n",
       "  'ix_bios_index',\n",
       "  'bios',\n",
       "  3,\n",
       "  'CREATE INDEX \"ix_bios_index\"ON \"bios\" (\"index\")'),\n",
       " ('table',\n",
       "  'pitcher_score',\n",
       "  'pitcher_score',\n",
       "  293,\n",
       "  'CREATE TABLE \"pitcher_score\" (\\n\"index\" INTEGER,\\n  \"年度\" TEXT,\\n  \"所属球団\" TEXT,\\n  \"登板\" REAL,\\n  \"勝利\" REAL,\\n  \"敗北\" REAL,\\n  \"セーブ\" REAL,\\n  \"H\" REAL,\\n  \"HP\" REAL,\\n  \"完投\" REAL,\\n  \"完封勝\" REAL,\\n  \"無四球\" REAL,\\n  \"勝率\" REAL,\\n  \"打者\" REAL,\\n  \"投球回\" TEXT,\\n  \"安打\" REAL,\\n  \"本塁打\" TEXT,\\n  \"四球\" REAL,\\n  \"死球\" REAL,\\n  \"三振\" REAL,\\n  \"暴投\" REAL,\\n  \"ボーク\" REAL,\\n  \"失点\" REAL,\\n  \"自責点\" REAL,\\n  \"防御率\" REAL,\\n  \"url\" TEXT,\\n  \"name\" TEXT\\n)'),\n",
       " ('index',\n",
       "  'ix_pitcher_score_index',\n",
       "  'pitcher_score',\n",
       "  294,\n",
       "  'CREATE INDEX \"ix_pitcher_score_index\"ON \"pitcher_score\" (\"index\")'),\n",
       " ('table',\n",
       "  'fielder_score',\n",
       "  'fielder_score',\n",
       "  899,\n",
       "  'CREATE TABLE \"fielder_score\" (\\n\"index\" INTEGER,\\n  \"年度\" TEXT,\\n  \"所属球団\" TEXT,\\n  \"試合\" INTEGER,\\n  \"打席\" INTEGER,\\n  \"打数\" INTEGER,\\n  \"得点\" INTEGER,\\n  \"安打\" INTEGER,\\n  \"二塁打\" INTEGER,\\n  \"三塁打\" INTEGER,\\n  \"本塁打\" INTEGER,\\n  \"塁打\" INTEGER,\\n  \"打点\" INTEGER,\\n  \"盗塁\" INTEGER,\\n  \"盗塁刺\" REAL,\\n  \"犠打\" INTEGER,\\n  \"犠飛\" REAL,\\n  \"四球\" INTEGER,\\n  \"死球\" INTEGER,\\n  \"三振\" INTEGER,\\n  \"併殺打\" REAL,\\n  \"打率\" REAL,\\n  \"長打率\" REAL,\\n  \"出塁率\" TEXT,\\n  \"url\" TEXT,\\n  \"name\" TEXT\\n)'),\n",
       " ('index',\n",
       "  'ix_fielder_score_index',\n",
       "  'fielder_score',\n",
       "  900,\n",
       "  'CREATE INDEX \"ix_fielder_score_index\"ON \"fielder_score\" (\"index\")'),\n",
       " ('table',\n",
       "  'win_loss_table',\n",
       "  'win_loss_table',\n",
       "  1684,\n",
       "  'CREATE TABLE \"win_loss_table\" (\\n\"index\" INTEGER,\\n  \"URL\" TEXT,\\n  \"ゲーム差\" TEXT,\\n  \"チーム\" TEXT,\\n  \"リーグ\" TEXT,\\n  \"勝利\" TEXT,\\n  \"勝率\" TEXT,\\n  \"年\" TEXT,\\n  \"引分\" TEXT,\\n  \"敗北\" TEXT,\\n  \"試合\" TEXT,\\n  \"順位\" INTEGER,\\n  \"順位前 後期 期\" TEXT\\n)'),\n",
       " ('index',\n",
       "  'ix_win_loss_table_index',\n",
       "  'win_loss_table',\n",
       "  1685,\n",
       "  'CREATE INDEX \"ix_win_loss_table_index\"ON \"win_loss_table\" (\"index\")')]"
      ]
     },
     "execution_count": 3,
     "metadata": {},
     "output_type": "execute_result"
    }
   ],
   "source": [
    "# テーブルの確認\n",
    "c.execute('select * from sqlite_master')\n",
    "c.fetchall()"
   ]
  },
  {
   "cell_type": "code",
   "execution_count": 17,
   "metadata": {},
   "outputs": [
    {
     "data": {
      "text/plain": [
       "[(0, 'index', 'INTEGER', 0, None, 0),\n",
       " (1, 'URL', 'TEXT', 0, None, 0),\n",
       " (2, 'ゲーム差', 'TEXT', 0, None, 0),\n",
       " (3, 'チーム', 'TEXT', 0, None, 0),\n",
       " (4, 'リーグ', 'TEXT', 0, None, 0),\n",
       " (5, '勝利', 'TEXT', 0, None, 0),\n",
       " (6, '勝率', 'TEXT', 0, None, 0),\n",
       " (7, '年', 'TEXT', 0, None, 0),\n",
       " (8, '引分', 'TEXT', 0, None, 0),\n",
       " (9, '敗北', 'TEXT', 0, None, 0),\n",
       " (10, '試合', 'TEXT', 0, None, 0),\n",
       " (11, '順位', 'INTEGER', 0, None, 0),\n",
       " (12, '順位前 後期 期', 'TEXT', 0, None, 0)]"
      ]
     },
     "execution_count": 17,
     "metadata": {},
     "output_type": "execute_result"
    }
   ],
   "source": [
    "# win_loss_tableの構造確認\n",
    "c.execute('pragma table_info(win_loss_table)')\n",
    "c.fetchall()"
   ]
  },
  {
   "cell_type": "code",
   "execution_count": 56,
   "metadata": {},
   "outputs": [
    {
     "data": {
      "text/plain": [
       "[(0, 'index', 'INTEGER', 0, None, 0),\n",
       " (1, '年度', 'TEXT', 0, None, 0),\n",
       " (2, '所属球団', 'TEXT', 0, None, 0),\n",
       " (3, '登板', 'REAL', 0, None, 0),\n",
       " (4, '勝利', 'REAL', 0, None, 0),\n",
       " (5, '敗北', 'REAL', 0, None, 0),\n",
       " (6, 'セーブ', 'REAL', 0, None, 0),\n",
       " (7, 'H', 'REAL', 0, None, 0),\n",
       " (8, 'HP', 'REAL', 0, None, 0),\n",
       " (9, '完投', 'REAL', 0, None, 0),\n",
       " (10, '完封勝', 'REAL', 0, None, 0),\n",
       " (11, '無四球', 'REAL', 0, None, 0),\n",
       " (12, '勝率', 'REAL', 0, None, 0),\n",
       " (13, '打者', 'REAL', 0, None, 0),\n",
       " (14, '投球回', 'TEXT', 0, None, 0),\n",
       " (15, '安打', 'REAL', 0, None, 0),\n",
       " (16, '本塁打', 'TEXT', 0, None, 0),\n",
       " (17, '四球', 'REAL', 0, None, 0),\n",
       " (18, '死球', 'REAL', 0, None, 0),\n",
       " (19, '三振', 'REAL', 0, None, 0),\n",
       " (20, '暴投', 'REAL', 0, None, 0),\n",
       " (21, 'ボーク', 'REAL', 0, None, 0),\n",
       " (22, '失点', 'REAL', 0, None, 0),\n",
       " (23, '自責点', 'REAL', 0, None, 0),\n",
       " (24, '防御率', 'REAL', 0, None, 0),\n",
       " (25, 'url', 'TEXT', 0, None, 0),\n",
       " (26, 'name', 'TEXT', 0, None, 0)]"
      ]
     },
     "execution_count": 56,
     "metadata": {},
     "output_type": "execute_result"
    }
   ],
   "source": [
    "# pitcher_scoreの構造確認\n",
    "c.execute('pragma table_info(pitcher_score)')\n",
    "c.fetchall()"
   ]
  },
  {
   "cell_type": "code",
   "execution_count": 31,
   "metadata": {},
   "outputs": [
    {
     "name": "stdout",
     "output_type": "stream",
     "text": [
      "選手情報から取得した場合、チーム数は843件です。\n",
      "勝敗表から取得した場合、チーム数は831件です。\n"
     ]
    }
   ],
   "source": [
    "# 略称と正式名称の対応表を作る。\n",
    "# 略称の年ごとの一覧の取得\n",
    "df_team_by_pitcher = pd.read_sql('select distinct 所属球団,年度 from pitcher_score where 年度>=1950', conn)\n",
    "\n",
    "# 正式名称の一覧の取得\n",
    "df_team_by_win_loss = pd.read_sql('select distinct チーム,年 from win_loss_table', conn)\n",
    "\n",
    "# 年情報がobj、strなのでそれを修正する。\n",
    "df_team_by_pitcher.loc[:, '年度_修正'] = df_team_by_pitcher['年度'].astype(float).astype(int)\n",
    "df_team_by_win_loss.loc[:, '年_修正'] = df_team_by_win_loss['年'].astype(int)\n",
    "\n",
    "# 略称はスペースが入っていることがあるので修正する。\n",
    "df_team_by_pitcher['所属球団_修正'] = df_team_by_pitcher['所属球団'].astype(str).apply(lambda x: re.sub(r'\\s', '',str(x)))\n",
    "\n",
    "# データベースに入っている値がfloatの場合とintの場合があり重複を生んでいる。\n",
    "# 重複を削除する。\n",
    "df_team_by_pitcher.drop_duplicates(subset=['年度_修正', '所属球団_修正'], inplace=True)\n",
    "\n",
    "# 件数の確認。選手情報は2018年の情報がある。\n",
    "# 勝敗表から取得した件数より12件多い。\n",
    "player_team_count = df_team_by_pitcher['年度_修正'].value_counts().sum()\n",
    "print('選手情報から取得した場合、チーム数は{}件です。'.format(player_team_count))\n",
    "win_loss_table_team_count = df_team_by_win_loss['年_修正'].value_counts().sum()\n",
    "print('勝敗表から取得した場合、チーム数は{}件です。'.format(win_loss_table_team_count))"
   ]
  },
  {
   "cell_type": "code",
   "execution_count": 30,
   "metadata": {
    "scrolled": true
   },
   "outputs": [
    {
     "name": "stderr",
     "output_type": "stream",
     "text": [
      "/home/kyohei/anaconda2/envs/py36con/lib/python3.6/site-packages/pandas/core/indexing.py:357: SettingWithCopyWarning: \n",
      "A value is trying to be set on a copy of a slice from a DataFrame.\n",
      "Try using .loc[row_indexer,col_indexer] = value instead\n",
      "\n",
      "See the caveats in the documentation: http://pandas.pydata.org/pandas-docs/stable/indexing.html#indexing-view-versus-copy\n",
      "  self.obj[key] = _infer_fill_value(value)\n",
      "/home/kyohei/anaconda2/envs/py36con/lib/python3.6/site-packages/pandas/core/indexing.py:537: SettingWithCopyWarning: \n",
      "A value is trying to be set on a copy of a slice from a DataFrame.\n",
      "Try using .loc[row_indexer,col_indexer] = value instead\n",
      "\n",
      "See the caveats in the documentation: http://pandas.pydata.org/pandas-docs/stable/indexing.html#indexing-view-versus-copy\n",
      "  self.obj[item] = s\n"
     ]
    }
   ],
   "source": [
    "# 年ごとの変換表を作成する。\n",
    "df_subs = []\n",
    "years = np.unique(df_team_by_win_loss['年_修正'])\n",
    "for year in years:\n",
    "    pitcher_team = df_team_by_pitcher[df_team_by_pitcher['年度_修正']==year]\n",
    "    win_loss_team = df_team_by_win_loss[df_team_by_win_loss['年_修正']==year]\n",
    "    name_list = pitcher_team['所属球団_修正'].tolist()\n",
    "    for name in name_list:\n",
    "        df_sub = win_loss_team[win_loss_team['チーム'].str.contains(name)]\n",
    "        # 略称の相手が見つかった\n",
    "        if df_sub.shape[0]>0:\n",
    "            df_sub.loc[:, '略称'] = name\n",
    "        # 阪神は古い年度では大阪タイガースだった\n",
    "        elif name=='阪神':\n",
    "            df_sub = win_loss_team[win_loss_team['チーム'].str.contains('タイガース')]\n",
    "            df_sub.loc[:, '略称'] = name\n",
    "        # 毎日大映オリオンズの略称は大毎\n",
    "        elif name=='大毎':\n",
    "            df_sub = win_loss_team[win_loss_team['チーム'].str.contains('オリオンズ')]\n",
    "            df_sub.loc[:, '略称'] = name\n",
    "        \n",
    "        df_subs.append(df_sub)\n",
    "\n",
    "# 対応表の作成\n",
    "correspondence_table = pd.concat(df_subs, axis=0)"
   ]
  },
  {
   "cell_type": "code",
   "execution_count": 36,
   "metadata": {
    "collapsed": true
   },
   "outputs": [
    {
     "ename": "ValueError",
     "evalue": "labels ['年'] not contained in axis",
     "output_type": "error",
     "traceback": [
      "\u001b[0;31m---------------------------------------------------------------------------\u001b[0m",
      "\u001b[0;31mValueError\u001b[0m                                Traceback (most recent call last)",
      "\u001b[0;32m<ipython-input-36-364df573ef8e>\u001b[0m in \u001b[0;36m<module>\u001b[0;34m()\u001b[0m\n\u001b[0;32m----> 1\u001b[0;31m \u001b[0mcorrespondence_table\u001b[0m\u001b[0;34m.\u001b[0m\u001b[0mdrop\u001b[0m\u001b[0;34m(\u001b[0m\u001b[0;34m'年'\u001b[0m\u001b[0;34m,\u001b[0m \u001b[0maxis\u001b[0m\u001b[0;34m=\u001b[0m\u001b[0;36m1\u001b[0m\u001b[0;34m,\u001b[0m \u001b[0minplace\u001b[0m\u001b[0;34m=\u001b[0m\u001b[0;32mTrue\u001b[0m\u001b[0;34m)\u001b[0m\u001b[0;34m\u001b[0m\u001b[0m\n\u001b[0m\u001b[1;32m      2\u001b[0m \u001b[0mcorrespondence_table\u001b[0m\u001b[0;34m.\u001b[0m\u001b[0mrename\u001b[0m\u001b[0;34m(\u001b[0m\u001b[0mcolumns\u001b[0m\u001b[0;34m=\u001b[0m\u001b[0;34m{\u001b[0m\u001b[0;34m'年_修正'\u001b[0m\u001b[0;34m:\u001b[0m\u001b[0;34m'年'\u001b[0m\u001b[0;34m}\u001b[0m\u001b[0;34m,\u001b[0m \u001b[0minplace\u001b[0m\u001b[0;34m=\u001b[0m\u001b[0;32mTrue\u001b[0m\u001b[0;34m)\u001b[0m\u001b[0;34m\u001b[0m\u001b[0m\n",
      "\u001b[0;32m~/anaconda2/envs/py36con/lib/python3.6/site-packages/pandas/core/generic.py\u001b[0m in \u001b[0;36mdrop\u001b[0;34m(self, labels, axis, index, columns, level, inplace, errors)\u001b[0m\n\u001b[1;32m   2528\u001b[0m         \u001b[0;32mfor\u001b[0m \u001b[0maxis\u001b[0m\u001b[0;34m,\u001b[0m \u001b[0mlabels\u001b[0m \u001b[0;32min\u001b[0m \u001b[0maxes\u001b[0m\u001b[0;34m.\u001b[0m\u001b[0mitems\u001b[0m\u001b[0;34m(\u001b[0m\u001b[0;34m)\u001b[0m\u001b[0;34m:\u001b[0m\u001b[0;34m\u001b[0m\u001b[0m\n\u001b[1;32m   2529\u001b[0m             \u001b[0;32mif\u001b[0m \u001b[0mlabels\u001b[0m \u001b[0;32mis\u001b[0m \u001b[0;32mnot\u001b[0m \u001b[0;32mNone\u001b[0m\u001b[0;34m:\u001b[0m\u001b[0;34m\u001b[0m\u001b[0m\n\u001b[0;32m-> 2530\u001b[0;31m                 \u001b[0mobj\u001b[0m \u001b[0;34m=\u001b[0m \u001b[0mobj\u001b[0m\u001b[0;34m.\u001b[0m\u001b[0m_drop_axis\u001b[0m\u001b[0;34m(\u001b[0m\u001b[0mlabels\u001b[0m\u001b[0;34m,\u001b[0m \u001b[0maxis\u001b[0m\u001b[0;34m,\u001b[0m \u001b[0mlevel\u001b[0m\u001b[0;34m=\u001b[0m\u001b[0mlevel\u001b[0m\u001b[0;34m,\u001b[0m \u001b[0merrors\u001b[0m\u001b[0;34m=\u001b[0m\u001b[0merrors\u001b[0m\u001b[0;34m)\u001b[0m\u001b[0;34m\u001b[0m\u001b[0m\n\u001b[0m\u001b[1;32m   2531\u001b[0m \u001b[0;34m\u001b[0m\u001b[0m\n\u001b[1;32m   2532\u001b[0m         \u001b[0;32mif\u001b[0m \u001b[0minplace\u001b[0m\u001b[0;34m:\u001b[0m\u001b[0;34m\u001b[0m\u001b[0m\n",
      "\u001b[0;32m~/anaconda2/envs/py36con/lib/python3.6/site-packages/pandas/core/generic.py\u001b[0m in \u001b[0;36m_drop_axis\u001b[0;34m(self, labels, axis, level, errors)\u001b[0m\n\u001b[1;32m   2560\u001b[0m                 \u001b[0mnew_axis\u001b[0m \u001b[0;34m=\u001b[0m \u001b[0maxis\u001b[0m\u001b[0;34m.\u001b[0m\u001b[0mdrop\u001b[0m\u001b[0;34m(\u001b[0m\u001b[0mlabels\u001b[0m\u001b[0;34m,\u001b[0m \u001b[0mlevel\u001b[0m\u001b[0;34m=\u001b[0m\u001b[0mlevel\u001b[0m\u001b[0;34m,\u001b[0m \u001b[0merrors\u001b[0m\u001b[0;34m=\u001b[0m\u001b[0merrors\u001b[0m\u001b[0;34m)\u001b[0m\u001b[0;34m\u001b[0m\u001b[0m\n\u001b[1;32m   2561\u001b[0m             \u001b[0;32melse\u001b[0m\u001b[0;34m:\u001b[0m\u001b[0;34m\u001b[0m\u001b[0m\n\u001b[0;32m-> 2562\u001b[0;31m                 \u001b[0mnew_axis\u001b[0m \u001b[0;34m=\u001b[0m \u001b[0maxis\u001b[0m\u001b[0;34m.\u001b[0m\u001b[0mdrop\u001b[0m\u001b[0;34m(\u001b[0m\u001b[0mlabels\u001b[0m\u001b[0;34m,\u001b[0m \u001b[0merrors\u001b[0m\u001b[0;34m=\u001b[0m\u001b[0merrors\u001b[0m\u001b[0;34m)\u001b[0m\u001b[0;34m\u001b[0m\u001b[0m\n\u001b[0m\u001b[1;32m   2563\u001b[0m             \u001b[0mdropped\u001b[0m \u001b[0;34m=\u001b[0m \u001b[0mself\u001b[0m\u001b[0;34m.\u001b[0m\u001b[0mreindex\u001b[0m\u001b[0;34m(\u001b[0m\u001b[0;34m**\u001b[0m\u001b[0;34m{\u001b[0m\u001b[0maxis_name\u001b[0m\u001b[0;34m:\u001b[0m \u001b[0mnew_axis\u001b[0m\u001b[0;34m}\u001b[0m\u001b[0;34m)\u001b[0m\u001b[0;34m\u001b[0m\u001b[0m\n\u001b[1;32m   2564\u001b[0m             \u001b[0;32mtry\u001b[0m\u001b[0;34m:\u001b[0m\u001b[0;34m\u001b[0m\u001b[0m\n",
      "\u001b[0;32m~/anaconda2/envs/py36con/lib/python3.6/site-packages/pandas/core/indexes/base.py\u001b[0m in \u001b[0;36mdrop\u001b[0;34m(self, labels, errors)\u001b[0m\n\u001b[1;32m   3742\u001b[0m             \u001b[0;32mif\u001b[0m \u001b[0merrors\u001b[0m \u001b[0;34m!=\u001b[0m \u001b[0;34m'ignore'\u001b[0m\u001b[0;34m:\u001b[0m\u001b[0;34m\u001b[0m\u001b[0m\n\u001b[1;32m   3743\u001b[0m                 raise ValueError('labels %s not contained in axis' %\n\u001b[0;32m-> 3744\u001b[0;31m                                  labels[mask])\n\u001b[0m\u001b[1;32m   3745\u001b[0m             \u001b[0mindexer\u001b[0m \u001b[0;34m=\u001b[0m \u001b[0mindexer\u001b[0m\u001b[0;34m[\u001b[0m\u001b[0;34m~\u001b[0m\u001b[0mmask\u001b[0m\u001b[0;34m]\u001b[0m\u001b[0;34m\u001b[0m\u001b[0m\n\u001b[1;32m   3746\u001b[0m         \u001b[0;32mreturn\u001b[0m \u001b[0mself\u001b[0m\u001b[0;34m.\u001b[0m\u001b[0mdelete\u001b[0m\u001b[0;34m(\u001b[0m\u001b[0mindexer\u001b[0m\u001b[0;34m)\u001b[0m\u001b[0;34m\u001b[0m\u001b[0m\n",
      "\u001b[0;31mValueError\u001b[0m: labels ['年'] not contained in axis"
     ]
    }
   ],
   "source": [
    "# データベースに保存するために形を整える。\n",
    "correspondence_table.drop('年', axis=1, inplace=True)\n",
    "correspondence_table.rename(columns={'年_修正':'年'}, inplace=True)"
   ]
  },
  {
   "cell_type": "code",
   "execution_count": 38,
   "metadata": {},
   "outputs": [],
   "source": [
    "# データベースに保存する。\n",
    "correspondence_table.to_sql('対応表', conn, if_exists='replace')"
   ]
  }
 ],
 "metadata": {
  "kernelspec": {
   "display_name": "Python 3",
   "language": "python",
   "name": "python3"
  },
  "language_info": {
   "codemirror_mode": {
    "name": "ipython",
    "version": 3
   },
   "file_extension": ".py",
   "mimetype": "text/x-python",
   "name": "python",
   "nbconvert_exporter": "python",
   "pygments_lexer": "ipython3",
   "version": "3.6.4"
  }
 },
 "nbformat": 4,
 "nbformat_minor": 2
}
