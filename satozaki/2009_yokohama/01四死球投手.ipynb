{
 "cells": [
  {
   "cell_type": "code",
   "execution_count": 1,
   "metadata": {},
   "outputs": [],
   "source": [
    "import pandas as pd\n",
    "import matplotlib.pyplot as plt\n",
    "import numpy as np\n",
    "import sqlite3\n",
    "import seaborn as sns\n",
    "import scipy\n",
    "%matplotlib inline"
   ]
  },
  {
   "cell_type": "markdown",
   "metadata": {},
   "source": [
    "# 投手は四球を減らし、打者は四球を選ぶことができていたのか？\n",
    "- 前年に比べて投手は、打者あたりの四球を減らすことができていたか？\n",
    "- 前年に比べて打者は、打席数あたりの四球を増やすことができていたか？"
   ]
  },
  {
   "cell_type": "markdown",
   "metadata": {},
   "source": [
    "# 投手の四球、背景の確認\n",
    "- 就任前の年の2009年シーズンの横浜ベーいスターズの四球の数は多かったと言えるかを確認する。\n",
    "- 仮説1：過去4シーズンに比べて四球が多かった。(4シーズンの理由は単にそこまでしかデータが無いため）\n",
    "- 仮説2：2009年シーズンは他球団と比較して四球が多かった。"
   ]
  },
  {
   "cell_type": "code",
   "execution_count": 6,
   "metadata": {},
   "outputs": [
    {
     "name": "stderr",
     "output_type": "stream",
     "text": [
      "/home/kyohei/anaconda2/envs/py36con/lib/python3.6/site-packages/ipykernel_launcher.py:9: SettingWithCopyWarning: \n",
      "A value is trying to be set on a copy of a slice from a DataFrame.\n",
      "Try using .loc[row_indexer,col_indexer] = value instead\n",
      "\n",
      "See the caveats in the documentation: http://pandas.pydata.org/pandas-docs/stable/indexing.html#indexing-view-versus-copy\n",
      "  if __name__ == '__main__':\n"
     ]
    }
   ],
   "source": [
    "# チーム成績を取得する\n",
    "df_list = []\n",
    "for year in range(2005, 2011, 1):\n",
    "    # クローリング\n",
    "    dfs = pd.io.html.read_html('http://npb.jp/bis/' + str(year) + '/stats/tmp_c.html')\n",
    "    df = dfs[0]\n",
    "    df.columns = df.iloc[0,:]\n",
    "    df_sub = df.iloc[1:]\n",
    "    df_sub['年度'] = year\n",
    "    df_list.append(df_sub)\n",
    "# 統合\n",
    "team_score = pd.concat(df_list, axis=0)"
   ]
  },
  {
   "cell_type": "code",
   "execution_count": 7,
   "metadata": {},
   "outputs": [
    {
     "data": {
      "text/html": [
       "<div>\n",
       "<style scoped>\n",
       "    .dataframe tbody tr th:only-of-type {\n",
       "        vertical-align: middle;\n",
       "    }\n",
       "\n",
       "    .dataframe tbody tr th {\n",
       "        vertical-align: top;\n",
       "    }\n",
       "\n",
       "    .dataframe thead th {\n",
       "        text-align: right;\n",
       "    }\n",
       "</style>\n",
       "<table border=\"1\" class=\"dataframe\">\n",
       "  <thead>\n",
       "    <tr style=\"text-align: right;\">\n",
       "      <th></th>\n",
       "      <th>年度</th>\n",
       "      <th>試　合</th>\n",
       "      <th>0</th>\n",
       "    </tr>\n",
       "  </thead>\n",
       "  <tbody>\n",
       "    <tr>\n",
       "      <th>0</th>\n",
       "      <td>2005</td>\n",
       "      <td>146</td>\n",
       "      <td>6</td>\n",
       "    </tr>\n",
       "    <tr>\n",
       "      <th>1</th>\n",
       "      <td>2006</td>\n",
       "      <td>146</td>\n",
       "      <td>6</td>\n",
       "    </tr>\n",
       "    <tr>\n",
       "      <th>2</th>\n",
       "      <td>2007</td>\n",
       "      <td>144</td>\n",
       "      <td>6</td>\n",
       "    </tr>\n",
       "    <tr>\n",
       "      <th>3</th>\n",
       "      <td>2008</td>\n",
       "      <td>144</td>\n",
       "      <td>6</td>\n",
       "    </tr>\n",
       "    <tr>\n",
       "      <th>4</th>\n",
       "      <td>2009</td>\n",
       "      <td>144</td>\n",
       "      <td>6</td>\n",
       "    </tr>\n",
       "    <tr>\n",
       "      <th>5</th>\n",
       "      <td>2010</td>\n",
       "      <td>144</td>\n",
       "      <td>6</td>\n",
       "    </tr>\n",
       "  </tbody>\n",
       "</table>\n",
       "</div>"
      ],
      "text/plain": [
       "     年度  試　合  0\n",
       "0  2005  146  6\n",
       "1  2006  146  6\n",
       "2  2007  144  6\n",
       "3  2008  144  6\n",
       "4  2009  144  6\n",
       "5  2010  144  6"
      ]
     },
     "execution_count": 7,
     "metadata": {},
     "output_type": "execute_result"
    }
   ],
   "source": [
    "# 試合数の確認\n",
    "# 2005,2006が146試合で、2007〜2009は144試合\n",
    "team_score.groupby(['年度', '試　合']).size().reset_index()"
   ]
  },
  {
   "cell_type": "code",
   "execution_count": 8,
   "metadata": {
    "scrolled": true
   },
   "outputs": [],
   "source": [
    "# 打者あたりの四死球の数の推移\n",
    "# 死球のデータ型を変換する。\n",
    "team_score['四　球'] = team_score['四　球'].astype(int)\n",
    "team_score['死　球'] = team_score['死　球'].astype(int)\n",
    "team_score['故意四'] = team_score['故意四'].astype(int)\n",
    "\n",
    "# 四球、故意四球、死球を合算する。\n",
    "team_score['四死球'] = team_score[['四　球', '故意四', '死　球']].sum(axis=1)\n",
    "\n",
    "# 打者、試合数のデータ型を変換する。\n",
    "team_score['打　者'] = team_score['打　者'].astype(int)\n",
    "team_score['試　合'] = team_score['試　合'].astype(int)\n",
    "\n",
    "# 打者あたりで算出する。\n",
    "team_score['四死球率_打者'] = team_score['四死球'] / team_score['打　者']\n",
    "# 試合あたりで算出する。\n",
    "team_score['四死球率_試合'] = team_score['四死球'] / team_score['試　合']"
   ]
  },
  {
   "cell_type": "code",
   "execution_count": 9,
   "metadata": {},
   "outputs": [
    {
     "data": {
      "text/plain": [
       "<matplotlib.axes._subplots.AxesSubplot at 0x7fa78000e9e8>"
      ]
     },
     "execution_count": 9,
     "metadata": {},
     "output_type": "execute_result"
    },
    {
     "data": {
      "image/png": "[encoded data removed]",
      "text/plain": [
       "<matplotlib.figure.Figure at 0x7fa77ff4d908>"
      ]
     },
     "metadata": {},
     "output_type": "display_data"
    }
   ],
   "source": [
    "# 四死球率の推移を見る\n",
    "fig, axes = plt.subplots(1,2,figsize=(15,5))\n",
    "\n",
    "team_score[team_score['チーム']=='横 浜'].plot(kind='bar', x='年度', y='四死球率_打者', color='blue', alpha=0.8, ax=axes[0])\n",
    "\n",
    "team_score[team_score['チーム']=='横 浜'].plot(kind='bar', x='年度', y='四死球率_試合', color='blue', alpha=0.8, ax=axes[1])"
   ]
  },
  {
   "cell_type": "markdown",
   "metadata": {},
   "source": [
    "- 2007年は四死球数が多くなっていたようです。\n",
    "- 交代直後の2010年は2009年に比べて四死球数は増えてしまっています。\n",
    "- ここ最近で最も四死球数が少なかった2006年と2008年の数字を比較して見ましょう。"
   ]
  },
  {
   "cell_type": "code",
   "execution_count": 10,
   "metadata": {},
   "outputs": [],
   "source": [
    "def test_(n1, x1, n2, x2):\n",
    "    diff = abs(x1 / n1 - x2 / n2)\n",
    "    prop_poul = (x1 + x2) / (n1 + n2)\n",
    "    statistic = diff / np.sqrt(prop_poul*(1-prop_poul)*(n1+n2)/(n1*n2))\n",
    "    return statistic"
   ]
  },
  {
   "cell_type": "markdown",
   "metadata": {},
   "source": [
    "統計学のP110ページにある正規分布による近似を使った検定を実施した。"
   ]
  },
  {
   "cell_type": "code",
   "execution_count": 11,
   "metadata": {},
   "outputs": [],
   "source": [
    "n1 = team_score[(team_score['チーム']=='横 浜') & (team_score['年度']==2006)]['打　者'].values[0]\n",
    "x1 = team_score[(team_score['チーム']=='横 浜') & (team_score['年度']==2006)]['四死球'].values[0]\n",
    "n2 = team_score[(team_score['チーム']=='横 浜') & (team_score['年度']==2008)]['打　者'].values[0]\n",
    "x2 = team_score[(team_score['チーム']=='横 浜') & (team_score['年度']==2008)]['四死球'].values[0]\n",
    "\n",
    "test_value = test_(n1 ,x1, n2, x2)"
   ]
  },
  {
   "cell_type": "code",
   "execution_count": 12,
   "metadata": {},
   "outputs": [
    {
     "data": {
      "text/plain": [
       "0.08893848688702"
      ]
     },
     "execution_count": 12,
     "metadata": {},
     "output_type": "execute_result"
    }
   ],
   "source": [
    "# p値の算出\n",
    "# sf()はサバイバル関数\n",
    "scipy.stats.norm.sf(test_value)"
   ]
  },
  {
   "cell_type": "code",
   "execution_count": 13,
   "metadata": {},
   "outputs": [
    {
     "name": "stdout",
     "output_type": "stream",
     "text": [
      "p値は0.4956961278944909です。\n"
     ]
    }
   ],
   "source": [
    "# 2009年と2008年の比較\n",
    "n1 = team_score[(team_score['チーム']=='横 浜') & (team_score['年度']==2009)]['打　者'].values[0]\n",
    "x1 = team_score[(team_score['チーム']=='横 浜') & (team_score['年度']==2009)]['四死球'].values[0]\n",
    "n2 = team_score[(team_score['チーム']=='横 浜') & (team_score['年度']==2008)]['打　者'].values[0]\n",
    "x2 = team_score[(team_score['チーム']=='横 浜') & (team_score['年度']==2008)]['四死球'].values[0]\n",
    "\n",
    "test_value = test_(n1 ,x1, n2, x2)\n",
    "\n",
    "p_value = scipy.stats.norm.sf(test_value)\n",
    "print('p値は{}です。'.format(p_value))"
   ]
  },
  {
   "cell_type": "markdown",
   "metadata": {},
   "source": [
    "特別に2009年の四死球数が多かったというわけではないことがわかりました。\n",
    "\n",
    "次に実は慢性的に四死球が多いということがないかを確認するために、2009年シーズンの他球団と比較してみることにします。"
   ]
  },
  {
   "cell_type": "code",
   "execution_count": 17,
   "metadata": {},
   "outputs": [
    {
     "data": {
      "text/plain": [
       "<matplotlib.axes._subplots.AxesSubplot at 0x7fa77d180048>"
      ]
     },
     "execution_count": 17,
     "metadata": {},
     "output_type": "execute_result"
    },
    {
     "data": {
      "image/png": "[encoded data removed]",
      "text/plain": [
       "<matplotlib.figure.Figure at 0x7fa77c226a20>"
      ]
     },
     "metadata": {},
     "output_type": "display_data"
    }
   ],
   "source": [
    "team_score[team_score['年度']==2009].plot(kind='bar', y='四死球率_打者', x='チーム', color='blue', alpha=0.8)"
   ]
  },
  {
   "cell_type": "code",
   "execution_count": 20,
   "metadata": {},
   "outputs": [
    {
     "data": {
      "text/html": [
       "<div>\n",
       "<style scoped>\n",
       "    .dataframe tbody tr th:only-of-type {\n",
       "        vertical-align: middle;\n",
       "    }\n",
       "\n",
       "    .dataframe tbody tr th {\n",
       "        vertical-align: top;\n",
       "    }\n",
       "\n",
       "    .dataframe thead th {\n",
       "        text-align: right;\n",
       "    }\n",
       "</style>\n",
       "<table border=\"1\" class=\"dataframe\">\n",
       "  <thead>\n",
       "    <tr style=\"text-align: right;\">\n",
       "      <th></th>\n",
       "      <th>チーム</th>\n",
       "      <th>四死球</th>\n",
       "    </tr>\n",
       "  </thead>\n",
       "  <tbody>\n",
       "    <tr>\n",
       "      <th>1</th>\n",
       "      <td>巨 人</td>\n",
       "      <td>421</td>\n",
       "    </tr>\n",
       "    <tr>\n",
       "      <th>2</th>\n",
       "      <td>中 日</td>\n",
       "      <td>436</td>\n",
       "    </tr>\n",
       "    <tr>\n",
       "      <th>3</th>\n",
       "      <td>阪 神</td>\n",
       "      <td>509</td>\n",
       "    </tr>\n",
       "    <tr>\n",
       "      <th>4</th>\n",
       "      <td>広 島</td>\n",
       "      <td>407</td>\n",
       "    </tr>\n",
       "    <tr>\n",
       "      <th>5</th>\n",
       "      <td>ヤクルト</td>\n",
       "      <td>499</td>\n",
       "    </tr>\n",
       "    <tr>\n",
       "      <th>6</th>\n",
       "      <td>横 浜</td>\n",
       "      <td>510</td>\n",
       "    </tr>\n",
       "  </tbody>\n",
       "</table>\n",
       "</div>"
      ],
      "text/plain": [
       "0   チーム  四死球\n",
       "1   巨 人  421\n",
       "2   中 日  436\n",
       "3   阪 神  509\n",
       "4   広 島  407\n",
       "5  ヤクルト  499\n",
       "6   横 浜  510"
      ]
     },
     "execution_count": 20,
     "metadata": {},
     "output_type": "execute_result"
    }
   ],
   "source": [
    "team_score[team_score['年度']==2009][['チーム', '四死球']]"
   ]
  },
  {
   "cell_type": "markdown",
   "metadata": {},
   "source": [
    "- 右から、巨人、中日、阪神、広島、ヤクルト、横浜を表している。巨人、中日、広島の四死球が少なくて、阪神、ヤクルト、横浜の四死球が多いという傾向が見える。\n",
    "- 大体80個くらいの差がある。これが勝ち星にどれくらい直結するかというのはわからんですが、これだけ減らせれば5試合分くらいの勝ち星が引っ繰り返りそう。貯金でいうと10個増えることになる。これはかなりでかい。\n",
    "- 監督としては上位2チームくらいの四死球率を目指したいところですな。"
   ]
  },
  {
   "cell_type": "code",
   "execution_count": 21,
   "metadata": {},
   "outputs": [
    {
     "name": "stdout",
     "output_type": "stream",
     "text": [
      "p値は0.003207858869546924です。\n"
     ]
    }
   ],
   "source": [
    "# 巨人と横浜の比較\n",
    "n1 = team_score[(team_score['チーム']=='横 浜') & (team_score['年度']==2009)]['打　者'].values[0]\n",
    "x1 = team_score[(team_score['チーム']=='横 浜') & (team_score['年度']==2009)]['四死球'].values[0]\n",
    "n2 = team_score[(team_score['チーム']=='巨 人') & (team_score['年度']==2009)]['打　者'].values[0]\n",
    "x2 = team_score[(team_score['チーム']=='巨 人') & (team_score['年度']==2009)]['四死球'].values[0]\n",
    "\n",
    "test_value = test_(n1 ,x1, n2, x2)\n",
    "\n",
    "p_value = scipy.stats.norm.sf(test_value)\n",
    "print('p値は{}です。'.format(p_value))"
   ]
  },
  {
   "cell_type": "markdown",
   "metadata": {},
   "source": [
    "- 優位に差が大きい、つまり巨人と横浜の四死球数の違いは偶然とは考えられない。\n",
    "- つまり、競争相手と比べて四死球が多いということを問題意識と持っていたと考ることができます。\n",
    "- 次に結果の蓋を開けてみましょう。"
   ]
  },
  {
   "cell_type": "code",
   "execution_count": 23,
   "metadata": {},
   "outputs": [
    {
     "name": "stdout",
     "output_type": "stream",
     "text": [
      "2009年シーズンの四死球数は510個です。\n",
      "2010年シーズンの四死球数は530個です。\n"
     ]
    }
   ],
   "source": [
    "print('2009年シーズンの四死球数は{}個です。'.format(team_score[(team_score['チーム']=='横 浜') & (team_score['年度']==2009)]['四死球'].values[0]))\n",
    "print('2010年シーズンの四死球数は{}個です。'.format(team_score[(team_score['チーム']=='横 浜') & (team_score['年度']==2010)]['四死球'].values[0]))"
   ]
  },
  {
   "cell_type": "code",
   "execution_count": 22,
   "metadata": {},
   "outputs": [
    {
     "name": "stdout",
     "output_type": "stream",
     "text": [
      "p値は0.36987362845042093です。\n"
     ]
    }
   ],
   "source": [
    "# 2009年と2010年の比較\n",
    "# そもそも増えているという笑えない結末。\n",
    "n1 = team_score[(team_score['チーム']=='横 浜') & (team_score['年度']==2009)]['打　者'].values[0]\n",
    "x1 = team_score[(team_score['チーム']=='横 浜') & (team_score['年度']==2009)]['四死球'].values[0]\n",
    "n2 = team_score[(team_score['チーム']=='横 浜') & (team_score['年度']==2010)]['打　者'].values[0]\n",
    "x2 = team_score[(team_score['チーム']=='横 浜') & (team_score['年度']==2010)]['四死球'].values[0]\n",
    "\n",
    "test_value = test_(n1 ,x1, n2, x2)\n",
    "\n",
    "p_value = scipy.stats.norm.sf(test_value)\n",
    "print('p値は{}です。'.format(p_value))"
   ]
  },
  {
   "cell_type": "markdown",
   "metadata": {},
   "source": [
    "- 2010年シーズンに尾花監督が横浜ベイスターズに就任され、四球を減らすということを宣言されました。\n",
    "- 残念ながら減らすどころか、増えてしまっていました。\n",
    "- 2009年と2010年の四死球数の差を比較しましたが差がないというキム仮説を棄却することはできず、偶然の範囲内ということになりました。"
   ]
  },
  {
   "cell_type": "markdown",
   "metadata": {},
   "source": [
    "# 各選手に対しての検定\n",
    "- 次の補助的なお題として、各選手において四死球数は減ったのか増えたのかという部分を見ていきます。\n",
    "- チーム全体と比べるとサンプル数が少なくなるのは明らかなので、有意水準は10%にしました。"
   ]
  },
  {
   "cell_type": "code",
   "execution_count": 2,
   "metadata": {},
   "outputs": [],
   "source": [
    "conn = sqlite3.connect('/home/kyohei/npb_blog_validation/satozaki/players_info.db')\n",
    "c = conn.cursor()"
   ]
  },
  {
   "cell_type": "code",
   "execution_count": 7,
   "metadata": {},
   "outputs": [],
   "source": [
    "data_p = pd.read_sql('select * from pitcher_score', conn)"
   ]
  },
  {
   "cell_type": "code",
   "execution_count": 8,
   "metadata": {
    "collapsed": true
   },
   "outputs": [
    {
     "name": "stderr",
     "output_type": "stream",
     "text": [
      "/home/kyohei/anaconda2/envs/py36con/lib/python3.6/site-packages/ipykernel_launcher.py:2: FutureWarning: currently extract(expand=None) means expand=False (return Index/Series/DataFrame) but in a future version of pandas this will be changed to expand=True (return DataFrame)\n",
      "  \n",
      "/home/kyohei/anaconda2/envs/py36con/lib/python3.6/site-packages/ipykernel_launcher.py:12: SettingWithCopyWarning: \n",
      "A value is trying to be set on a copy of a slice from a DataFrame.\n",
      "Try using .loc[row_indexer,col_indexer] = value instead\n",
      "\n",
      "See the caveats in the documentation: http://pandas.pydata.org/pandas-docs/stable/indexing.html#indexing-view-versus-copy\n",
      "  if sys.path[0] == '':\n",
      "/home/kyohei/anaconda2/envs/py36con/lib/python3.6/site-packages/ipykernel_launcher.py:13: SettingWithCopyWarning: \n",
      "A value is trying to be set on a copy of a slice from a DataFrame.\n",
      "Try using .loc[row_indexer,col_indexer] = value instead\n",
      "\n",
      "See the caveats in the documentation: http://pandas.pydata.org/pandas-docs/stable/indexing.html#indexing-view-versus-copy\n",
      "  del sys.path[0]\n"
     ]
    }
   ],
   "source": [
    "# 年度数値に変換\n",
    "data_p['年度'] = data_p['年度'].str.extract(r'^([0-9]*)').astype(int)\n",
    "\n",
    "# データを対象年度で抽出\n",
    "data_p_y_sub = data_p[(data_p['年度']>=2009) & (data_p['年度']<=2010)]\n",
    "\n",
    "# 横浜のデータに対象を絞る\n",
    "data_bay = data_p_y_sub[data_p_y_sub['所属球団']=='横　浜']\n",
    "\n",
    "# 四死球の数に変換\n",
    "data_bay_sub = data_bay[['name', '年度', '打者', '四球', '死球']]\n",
    "data_bay_sub['四死球'] = data_bay_sub['死球'] + data_bay_sub['四球']\n",
    "data_bay_sub['not四死球'] = data_bay_sub['打者'] - data_bay_sub['四死球']\n",
    "\n",
    "# この二年間に所属していた選手に限定する。\n",
    "bay_dup = data_bay_sub[data_bay_sub.duplicated('name',keep=False)]"
   ]
  },
  {
   "cell_type": "code",
   "execution_count": 23,
   "metadata": {},
   "outputs": [
    {
     "name": "stdout",
     "output_type": "stream",
     "text": [
      "藤江　均 0.7530147796694217\n",
      "寺原　隼人 0.1190511443058738\n",
      "高崎　健太郎 0.8399013105053037\n",
      "山口　俊 0.9535260566586637\n",
      "桑原　謙太朗 0.12933248103679879\n",
      "Ｓ．ランドルフ 0.5048609789724514\n",
      "加藤　康介 0.6511721905287906\n",
      "木塚　敦志 0.41051289424776805\n",
      "小林　太志 0.6891695342897886\n",
      "真田　裕貴 0.9807894881786935\n",
      "牛田　成樹 0.916057319785434\n",
      "三浦　大輔 0.16315936018050958\n",
      "高宮　和也 0.8975003124989666\n",
      "大田　阿斗里 0.6586292780289578\n",
      "小杉　陽太 0.9757103860300945\n",
      "吉見　祐治 0.7543380209781074\n"
     ]
    }
   ],
   "source": [
    "# 各選手でχ二乗検定を実施\n",
    "names = bay_dup.name.value_counts().index.tolist()\n",
    "for name in names:\n",
    "    an_pitcher = bay_dup[bay_dup['name']==name]\n",
    "    v, p, d, e = scipy.stats.chi2_contingency(an_pitcher[['四死球', 'not四死球']])\n",
    "    print(name, p)"
   ]
  },
  {
   "cell_type": "markdown",
   "metadata": {},
   "source": [
    "- 有意差があった選手はいなかった。\n",
    "- 以下推測。プロ野球なので精神論として四死球を下げろ以上。というわけではなく、何かしらの施策を打ったものと考えられるが、この分析結果空はそういった施策（個人的なものも、チーム全体としてのものも）成果を上げることはなかったということになる。\n",
    "- 冷静に考えて一年でコントロールが良くなるということは考えにくいので、いたし方無い気はする。\n",
    "- 2017年シーズンの西武では多少甘くなってもいいから、フォアボールを出すなという用にトレーニング年ではなく戦略としてのほうが効果が出そうという感じはする。\n",
    "- 西武についても見てみよう。"
   ]
  },
  {
   "cell_type": "code",
   "execution_count": 29,
   "metadata": {},
   "outputs": [
    {
     "name": "stderr",
     "output_type": "stream",
     "text": [
      "/home/kyohei/anaconda2/envs/py36con/lib/python3.6/site-packages/ipykernel_launcher.py:9: SettingWithCopyWarning: \n",
      "A value is trying to be set on a copy of a slice from a DataFrame.\n",
      "Try using .loc[row_indexer,col_indexer] = value instead\n",
      "\n",
      "See the caveats in the documentation: http://pandas.pydata.org/pandas-docs/stable/indexing.html#indexing-view-versus-copy\n",
      "  if __name__ == '__main__':\n",
      "/home/kyohei/anaconda2/envs/py36con/lib/python3.6/site-packages/ipykernel_launcher.py:10: SettingWithCopyWarning: \n",
      "A value is trying to be set on a copy of a slice from a DataFrame.\n",
      "Try using .loc[row_indexer,col_indexer] = value instead\n",
      "\n",
      "See the caveats in the documentation: http://pandas.pydata.org/pandas-docs/stable/indexing.html#indexing-view-versus-copy\n",
      "  # Remove the CWD from sys.path while we load stuff.\n"
     ]
    }
   ],
   "source": [
    "# データを対象年度で抽出\n",
    "data_p_y_sub = data_p[(data_p['年度']>=2016) & (data_p['年度']<=2017)]\n",
    "\n",
    "# 横浜のデータに対象を絞る\n",
    "data_lion = data_p_y_sub[data_p_y_sub['所属球団']=='埼玉西武']\n",
    "\n",
    "# 四死球の数に変換\n",
    "data_lion_sub = data_lion[['name', '年度', '打者', '四球', '死球']]\n",
    "data_lion_sub['四死球'] = data_lion_sub['死球'] + data_lion_sub['四球']\n",
    "data_lion_sub['not四死球'] = data_lion_sub['打者'] - data_lion_sub['四死球']\n",
    "\n",
    "# この二年間に所属していた選手に限定する。\n",
    "lion_dup = data_lion_sub[data_lion_sub.duplicated('name',keep=False)]"
   ]
  },
  {
   "cell_type": "code",
   "execution_count": 30,
   "metadata": {},
   "outputs": [
    {
     "name": "stdout",
     "output_type": "stream",
     "text": [
      "野上　亮磨 0.002375476325416862\n",
      "多和田　真三郎 0.20662763044240695\n",
      "小石　博孝 0.6330615083443814\n",
      "大石　達也 0.7122346104685218\n",
      "相内　誠 0.819106487815624\n",
      "髙橋　光成 0.6004974595832915\n",
      "野田　昇吾 0.5144553484905734\n",
      "菊池　雄星 0.013486519454708138\n",
      "本田　圭佑 0.6295483900789923\n",
      "Ｂ．ウルフ 0.6828716153083512\n",
      "十亀　剣 0.04647162660240003\n",
      "南川　忠亮 0.925119192713856\n",
      "髙橋　朋己 0.7591637921241374\n",
      "岡本　洋介 0.7136833041322759\n",
      "増田　達至 0.6770361907692632\n",
      "佐野　泰雄 0.9681585532636942\n",
      "藤原　良平 0.250737263274331\n",
      "武隈　祥太 0.8925061454759214\n",
      "牧田　和久 0.019494499352417486\n"
     ]
    }
   ],
   "source": [
    "# 各選手でχ二乗検定を実施\n",
    "names = lion_dup.name.value_counts().index.tolist()\n",
    "for name in names:\n",
    "    an_pitcher = lion_dup[lion_dup['name']==name]\n",
    "    v, p, d, e = scipy.stats.chi2_contingency(an_pitcher[['四死球', 'not四死球']])\n",
    "    print(name, p)"
   ]
  },
  {
   "cell_type": "markdown",
   "metadata": {},
   "source": [
    "- これを話していたのは十亀と野上だったと記憶している。この二人については有意に四死球数が変化しているということがわかる。"
   ]
  },
  {
   "cell_type": "code",
   "execution_count": 36,
   "metadata": {},
   "outputs": [
    {
     "data": {
      "text/html": [
       "<div>\n",
       "<style scoped>\n",
       "    .dataframe tbody tr th:only-of-type {\n",
       "        vertical-align: middle;\n",
       "    }\n",
       "\n",
       "    .dataframe tbody tr th {\n",
       "        vertical-align: top;\n",
       "    }\n",
       "\n",
       "    .dataframe thead th {\n",
       "        text-align: right;\n",
       "    }\n",
       "</style>\n",
       "<table border=\"1\" class=\"dataframe\">\n",
       "  <thead>\n",
       "    <tr style=\"text-align: right;\">\n",
       "      <th></th>\n",
       "      <th>name</th>\n",
       "      <th>年度</th>\n",
       "      <th>打者</th>\n",
       "      <th>四球</th>\n",
       "      <th>死球</th>\n",
       "      <th>四死球</th>\n",
       "      <th>not四死球</th>\n",
       "    </tr>\n",
       "  </thead>\n",
       "  <tbody>\n",
       "    <tr>\n",
       "      <th>4530</th>\n",
       "      <td>菊池　雄星</td>\n",
       "      <td>2016</td>\n",
       "      <td>595.0</td>\n",
       "      <td>67.0</td>\n",
       "      <td>2.0</td>\n",
       "      <td>69.0</td>\n",
       "      <td>526.0</td>\n",
       "    </tr>\n",
       "    <tr>\n",
       "      <th>4531</th>\n",
       "      <td>菊池　雄星</td>\n",
       "      <td>2017</td>\n",
       "      <td>735.0</td>\n",
       "      <td>49.0</td>\n",
       "      <td>6.0</td>\n",
       "      <td>55.0</td>\n",
       "      <td>680.0</td>\n",
       "    </tr>\n",
       "    <tr>\n",
       "      <th>9269</th>\n",
       "      <td>十亀　剣</td>\n",
       "      <td>2016</td>\n",
       "      <td>335.0</td>\n",
       "      <td>31.0</td>\n",
       "      <td>9.0</td>\n",
       "      <td>40.0</td>\n",
       "      <td>295.0</td>\n",
       "    </tr>\n",
       "    <tr>\n",
       "      <th>9270</th>\n",
       "      <td>十亀　剣</td>\n",
       "      <td>2017</td>\n",
       "      <td>500.0</td>\n",
       "      <td>35.0</td>\n",
       "      <td>3.0</td>\n",
       "      <td>38.0</td>\n",
       "      <td>462.0</td>\n",
       "    </tr>\n",
       "    <tr>\n",
       "      <th>10561</th>\n",
       "      <td>野上　亮磨</td>\n",
       "      <td>2016</td>\n",
       "      <td>474.0</td>\n",
       "      <td>43.0</td>\n",
       "      <td>5.0</td>\n",
       "      <td>48.0</td>\n",
       "      <td>426.0</td>\n",
       "    </tr>\n",
       "    <tr>\n",
       "      <th>10562</th>\n",
       "      <td>野上　亮磨</td>\n",
       "      <td>2017</td>\n",
       "      <td>577.0</td>\n",
       "      <td>24.0</td>\n",
       "      <td>5.0</td>\n",
       "      <td>29.0</td>\n",
       "      <td>548.0</td>\n",
       "    </tr>\n",
       "    <tr>\n",
       "      <th>12580</th>\n",
       "      <td>牧田　和久</td>\n",
       "      <td>2016</td>\n",
       "      <td>312.0</td>\n",
       "      <td>16.0</td>\n",
       "      <td>10.0</td>\n",
       "      <td>26.0</td>\n",
       "      <td>286.0</td>\n",
       "    </tr>\n",
       "    <tr>\n",
       "      <th>12581</th>\n",
       "      <td>牧田　和久</td>\n",
       "      <td>2017</td>\n",
       "      <td>248.0</td>\n",
       "      <td>5.0</td>\n",
       "      <td>3.0</td>\n",
       "      <td>8.0</td>\n",
       "      <td>240.0</td>\n",
       "    </tr>\n",
       "  </tbody>\n",
       "</table>\n",
       "</div>"
      ],
      "text/plain": [
       "        name    年度     打者    四球    死球   四死球  not四死球\n",
       "4530   菊池　雄星  2016  595.0  67.0   2.0  69.0   526.0\n",
       "4531   菊池　雄星  2017  735.0  49.0   6.0  55.0   680.0\n",
       "9269    十亀　剣  2016  335.0  31.0   9.0  40.0   295.0\n",
       "9270    十亀　剣  2017  500.0  35.0   3.0  38.0   462.0\n",
       "10561  野上　亮磨  2016  474.0  43.0   5.0  48.0   426.0\n",
       "10562  野上　亮磨  2017  577.0  24.0   5.0  29.0   548.0\n",
       "12580  牧田　和久  2016  312.0  16.0  10.0  26.0   286.0\n",
       "12581  牧田　和久  2017  248.0   5.0   3.0   8.0   240.0"
      ]
     },
     "execution_count": 36,
     "metadata": {},
     "output_type": "execute_result"
    }
   ],
   "source": [
    "# 念の為、有意差が出た選手で四死球数を確認\n",
    "confirm_pitchers = ['野上　亮磨', '菊池　雄星', '十亀　剣', '牧田　和久']\n",
    "lion_dup[lion_dup.name.isin(confirm_pitchers)]"
   ]
  }
 ],
 "metadata": {
  "kernelspec": {
   "display_name": "Python 3",
   "language": "python",
   "name": "python3"
  },
  "language_info": {
   "codemirror_mode": {
    "name": "ipython",
    "version": 3
   },
   "file_extension": ".py",
   "mimetype": "text/x-python",
   "name": "python",
   "nbconvert_exporter": "python",
   "pygments_lexer": "ipython3",
   "version": "3.6.4"
  }
 },
 "nbformat": 4,
 "nbformat_minor": 2
}
