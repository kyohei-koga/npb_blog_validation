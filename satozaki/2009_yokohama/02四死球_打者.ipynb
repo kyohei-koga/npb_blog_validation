{
 "cells": [
  {
   "cell_type": "code",
   "execution_count": 1,
   "metadata": {},
   "outputs": [],
   "source": [
    "import pandas as pd\n",
    "import numpy as np\n",
    "import scipy\n",
    "import matplotlib.pyplot as plt\n",
    "import sqlite3\n",
    "import seaborn as sns\n",
    "%matplotlib inline"
   ]
  },
  {
   "cell_type": "markdown",
   "metadata": {},
   "source": [
    "# 前年に比べて打者は四球を多く選ぶことができていたのか？"
   ]
  },
  {
   "cell_type": "markdown",
   "metadata": {},
   "source": [
    "# 野手の四球、背景の確認\n",
    "- 就任前の年の2009年シーズンの横浜の四球の数は少なかったと言えるかを確認する。\n",
    "- 仮説1：過去4シーズンに比べて四球が少なかった\n",
    "- 仮説2：2009年シーズンは他球団と比較して四球が少なかった。"
   ]
  },
  {
   "cell_type": "code",
   "execution_count": 4,
   "metadata": {},
   "outputs": [
    {
     "name": "stderr",
     "output_type": "stream",
     "text": [
      "/home/kyohei/anaconda2/envs/py36con/lib/python3.6/site-packages/ipykernel_launcher.py:9: SettingWithCopyWarning: \n",
      "A value is trying to be set on a copy of a slice from a DataFrame.\n",
      "Try using .loc[row_indexer,col_indexer] = value instead\n",
      "\n",
      "See the caveats in the documentation: http://pandas.pydata.org/pandas-docs/stable/indexing.html#indexing-view-versus-copy\n",
      "  if __name__ == '__main__':\n"
     ]
    }
   ],
   "source": [
    "# チーム成績を取得する。\n",
    "df_list = []\n",
    "for year in range(2005, 2011, 1):\n",
    "    # クローリングする。\n",
    "    dfs = pd.io.html.read_html('http://npb.jp/bis/' + str(year) + '/stats/tmb_c.html')\n",
    "    df = dfs[0]\n",
    "    df.columns = df.iloc[0, :]\n",
    "    df_sub = df.iloc[1:]\n",
    "    df_sub['年度'] = year\n",
    "    df_list.append(df_sub)\n",
    "    \n",
    "# 統合\n",
    "team_score = pd.concat(df_list, axis=0, ignore_index=True)"
   ]
  },
  {
   "cell_type": "code",
   "execution_count": 9,
   "metadata": {},
   "outputs": [],
   "source": [
    "# 四球率（打席あたりの四球数）の推移を計算する。\n",
    "# 四球と打席数のデータ型を変換する。\n",
    "team_score['四　球'] = team_score['四　球'].astype(int)\n",
    "team_score['打　席'] = team_score['打　席'].astype(int)\n",
    "\n",
    "# 四球率の計算\n",
    "team_score['四球率'] = team_score['四　球'] / team_score['打　席']"
   ]
  },
  {
   "cell_type": "code",
   "execution_count": 10,
   "metadata": {},
   "outputs": [
    {
     "data": {
      "text/plain": [
       "<matplotlib.axes._subplots.AxesSubplot at 0x7fd20e892198>"
      ]
     },
     "execution_count": 10,
     "metadata": {},
     "output_type": "execute_result"
    },
    {
     "data": {
      "image/png": "[encoded data removed]",
      "text/plain": [
       "<matplotlib.figure.Figure at 0x7fd20e88b9e8>"
      ]
     },
     "metadata": {},
     "output_type": "display_data"
    }
   ],
   "source": [
    "# 横浜ベイスターズの四球率の推移を確認する。\n",
    "team_score[team_score['チーム']=='横 浜'].plot(kind='bar', x='年度', y='四球率', color='blue', alpha=0.8)"
   ]
  },
  {
   "cell_type": "markdown",
   "metadata": {},
   "source": [
    "- 2009年は特別少ないと言う感じはしない。\n",
    "- 強いて言えば2005年よりは低いという感じはする。誤差とは言えない差かどうかを検定する。"
   ]
  },
  {
   "cell_type": "code",
   "execution_count": 12,
   "metadata": {},
   "outputs": [],
   "source": [
    "# 独立に二項分布に従う2つの郡の比較\n",
    "# 正規分布に近似されるとして検定を実施する。\n",
    "def test(n1, x1, n2, x2):\n",
    "    diff = abs(x1 / n1 - x2 / n2)\n",
    "    prop_poul = (x1 + x2) / (n1 + n2)\n",
    "    statistic = diff / np.sqrt(prop_poul*(1-prop_poul)*(n1+n2)/(n1*n2))\n",
    "    return statistic"
   ]
  },
  {
   "cell_type": "code",
   "execution_count": 14,
   "metadata": {},
   "outputs": [
    {
     "name": "stdout",
     "output_type": "stream",
     "text": [
      "p値は0.017786992326575088です。\n"
     ]
    }
   ],
   "source": [
    "# 2009年と2005年の比較\n",
    "n1 = team_score[(team_score['チーム']=='横 浜') & (team_score['年度']==2005)]['打　席'].values[0]\n",
    "x1 = team_score[(team_score['チーム']=='横 浜') & (team_score['年度']==2005)]['四　球'].values[0]\n",
    "n2 = team_score[(team_score['チーム']=='横 浜') & (team_score['年度']==2009)]['打　席'].values[0]\n",
    "x2 = team_score[(team_score['チーム']=='横 浜') & (team_score['年度']==2009)]['四　球'].values[0]\n",
    "\n",
    "test_value = test(n1, x1, n2, x2)\n",
    "\n",
    "# p値の算出\n",
    "# sf()はサバイバル関数\n",
    "p_value = scipy.stats.norm.sf(test_value)\n",
    "\n",
    "print('p値は{}です。'.format(p_value))"
   ]
  },
  {
   "cell_type": "markdown",
   "metadata": {},
   "source": [
    "- 確かに2005年よりは有意に低いということができる。\n",
    "- 直近で言うと2007年度の水準に頑張って戻そうということがありうる。そことも比較しておこう。"
   ]
  },
  {
   "cell_type": "code",
   "execution_count": 15,
   "metadata": {},
   "outputs": [
    {
     "name": "stdout",
     "output_type": "stream",
     "text": [
      "p値は0.20222257459789372です。\n"
     ]
    }
   ],
   "source": [
    "# 2009年と2007年の比較\n",
    "n1 = team_score[(team_score['チーム']=='横 浜') & (team_score['年度']==2007)]['打　席'].values[0]\n",
    "x1 = team_score[(team_score['チーム']=='横 浜') & (team_score['年度']==2007)]['四　球'].values[0]\n",
    "n2 = team_score[(team_score['チーム']=='横 浜') & (team_score['年度']==2009)]['打　席'].values[0]\n",
    "x2 = team_score[(team_score['チーム']=='横 浜') & (team_score['年度']==2009)]['四　球'].values[0]\n",
    "\n",
    "test_value = test(n1, x1, n2, x2)\n",
    "\n",
    "# p値の算出\n",
    "# sf()はサバイバル関数\n",
    "p_value = scipy.stats.norm.sf(test_value)\n",
    "\n",
    "print('p値は{}です。'.format(p_value))"
   ]
  },
  {
   "cell_type": "markdown",
   "metadata": {},
   "source": [
    "- 2007年と2009年に差が無いというキム仮説を棄却することはできなかった。\n",
    "- なので2007年の数値と2009年の数値を比較して、四球数が減っていると考えるのは危うい考え方になる。\n",
    "- ましてや2007年の時にしていたことなんかを引っ張りだしたりすることはしないほうが良いという事になる。"
   ]
  },
  {
   "cell_type": "markdown",
   "metadata": {},
   "source": [
    "次に2009年シーズンの四球数を他のチームと比較します。"
   ]
  },
  {
   "cell_type": "code",
   "execution_count": 17,
   "metadata": {},
   "outputs": [
    {
     "data": {
      "text/plain": [
       "<matplotlib.axes._subplots.AxesSubplot at 0x7fd20ece6320>"
      ]
     },
     "execution_count": 17,
     "metadata": {},
     "output_type": "execute_result"
    },
    {
     "data": {
      "image/png": "[encoded data removed]",
      "text/plain": [
       "<matplotlib.figure.Figure at 0x7fd2148600b8>"
      ]
     },
     "metadata": {},
     "output_type": "display_data"
    }
   ],
   "source": [
    "team_score[team_score['年度']==2009].plot(kind='bar', x='チーム', y='四球率', color='blue', alpha=0.8)"
   ]
  },
  {
   "cell_type": "code",
   "execution_count": 19,
   "metadata": {},
   "outputs": [
    {
     "data": {
      "text/html": [
       "<div>\n",
       "<style scoped>\n",
       "    .dataframe tbody tr th:only-of-type {\n",
       "        vertical-align: middle;\n",
       "    }\n",
       "\n",
       "    .dataframe tbody tr th {\n",
       "        vertical-align: top;\n",
       "    }\n",
       "\n",
       "    .dataframe thead th {\n",
       "        text-align: right;\n",
       "    }\n",
       "</style>\n",
       "<table border=\"1\" class=\"dataframe\">\n",
       "  <thead>\n",
       "    <tr style=\"text-align: right;\">\n",
       "      <th></th>\n",
       "      <th>チーム</th>\n",
       "      <th>四　球</th>\n",
       "      <th>四球率</th>\n",
       "    </tr>\n",
       "  </thead>\n",
       "  <tbody>\n",
       "    <tr>\n",
       "      <th>24</th>\n",
       "      <td>巨 人</td>\n",
       "      <td>349</td>\n",
       "      <td>0.062894</td>\n",
       "    </tr>\n",
       "    <tr>\n",
       "      <th>25</th>\n",
       "      <td>ヤクルト</td>\n",
       "      <td>379</td>\n",
       "      <td>0.070263</td>\n",
       "    </tr>\n",
       "    <tr>\n",
       "      <th>26</th>\n",
       "      <td>中 日</td>\n",
       "      <td>432</td>\n",
       "      <td>0.079456</td>\n",
       "    </tr>\n",
       "    <tr>\n",
       "      <th>27</th>\n",
       "      <td>阪 神</td>\n",
       "      <td>393</td>\n",
       "      <td>0.072269</td>\n",
       "    </tr>\n",
       "    <tr>\n",
       "      <th>28</th>\n",
       "      <td>広 島</td>\n",
       "      <td>397</td>\n",
       "      <td>0.074289</td>\n",
       "    </tr>\n",
       "    <tr>\n",
       "      <th>29</th>\n",
       "      <td>横 浜</td>\n",
       "      <td>342</td>\n",
       "      <td>0.065118</td>\n",
       "    </tr>\n",
       "  </tbody>\n",
       "</table>\n",
       "</div>"
      ],
      "text/plain": [
       "0    チーム  四　球       四球率\n",
       "24   巨 人  349  0.062894\n",
       "25  ヤクルト  379  0.070263\n",
       "26   中 日  432  0.079456\n",
       "27   阪 神  393  0.072269\n",
       "28   広 島  397  0.074289\n",
       "29   横 浜  342  0.065118"
      ]
     },
     "execution_count": 19,
     "metadata": {},
     "output_type": "execute_result"
    }
   ],
   "source": [
    "team_score[team_score['年度']==2009][['チーム', '四　球', '四球率']]"
   ]
  },
  {
   "cell_type": "markdown",
   "metadata": {},
   "source": [
    "- 右から順番に、巨人、ヤクルト、中日、阪神、広島、横浜となります。\n",
    "- この年の順位は、巨人、中日、ヤクルト、阪神、広島、横浜です。巨人が頭ひとつ抜けだしていて、中日もなかなかの成績でした。\n",
    "- 横浜の四球率は5番目でした。\n",
    "- 阪神、広島と比較すると約50個少ないという結果。これだけ稼げればもしかしたら3〜5勝分くらい勝ち星がひっくり返ったかもしれませんね。\n",
    "- 中日はちょっとダントツ気味なので、広島あたりの水準に持って行きたいというのが、監督のしての心情でしょうか。"
   ]
  },
  {
   "cell_type": "code",
   "execution_count": 22,
   "metadata": {},
   "outputs": [
    {
     "name": "stdout",
     "output_type": "stream",
     "text": [
      "p値は0.031938987527965444です。\n"
     ]
    }
   ],
   "source": [
    "# 広島と横浜の比較\n",
    "n1 = team_score[(team_score['チーム']=='横 浜') & (team_score['年度']==2009)]['打　席'].values[0]\n",
    "x1 = team_score[(team_score['チーム']=='横 浜') & (team_score['年度']==2009)]['四　球'].values[0]\n",
    "n2 = team_score[(team_score['チーム']=='広 島') & (team_score['年度']==2009)]['打　席'].values[0]\n",
    "x2 = team_score[(team_score['チーム']=='広 島') & (team_score['年度']==2009)]['四　球'].values[0]\n",
    "\n",
    "test_value = test_(n1 ,x1, n2, x2)\n",
    "\n",
    "p_value = scipy.stats.norm.sf(test_value)\n",
    "print('p値は{}です。'.format(p_value))"
   ]
  },
  {
   "cell_type": "markdown",
   "metadata": {},
   "source": [
    "- 広島と横浜の差は偶然によるものとは考えられない。\n",
    "- 一応年度毎の方でも有意差はアルことを確認しましたが、どちらかというとこちらのグラフの方が問題意識を持ちやすそうですし、他チームの成績と比較して問題式を持ちますね。"
   ]
  },
  {
   "cell_type": "code",
   "execution_count": 23,
   "metadata": {},
   "outputs": [
    {
     "name": "stdout",
     "output_type": "stream",
     "text": [
      "2009年シーズンの四死球数は342個です。\n",
      "2010年シーズンの四死球数は385個です。\n"
     ]
    }
   ],
   "source": [
    "print('2009年シーズンの四死球数は{}個です。'.format(team_score[(team_score['チーム']=='横 浜') & (team_score['年度']==2009)]['四　球'].values[0]))\n",
    "print('2010年シーズンの四死球数は{}個です。'.format(team_score[(team_score['チーム']=='横 浜') & (team_score['年度']==2010)]['四　球'].values[0]))"
   ]
  },
  {
   "cell_type": "markdown",
   "metadata": {},
   "source": [
    "- 四球数は40個増加しました！\n",
    "- 検定にかけてみて、この差が有意な差なのかを確認してみましょう。"
   ]
  },
  {
   "cell_type": "code",
   "execution_count": 24,
   "metadata": {},
   "outputs": [
    {
     "name": "stdout",
     "output_type": "stream",
     "text": [
      "p値は0.10495287180798674です。\n"
     ]
    }
   ],
   "source": [
    "# 2009年と2010年の比較\n",
    "# それなりに増えているのが期待します。\n",
    "n1 = team_score[(team_score['チーム']=='横 浜') & (team_score['年度']==2009)]['打　席'].values[0]\n",
    "x1 = team_score[(team_score['チーム']=='横 浜') & (team_score['年度']==2009)]['四　球'].values[0]\n",
    "n2 = team_score[(team_score['チーム']=='横 浜') & (team_score['年度']==2010)]['打　席'].values[0]\n",
    "x2 = team_score[(team_score['チーム']=='横 浜') & (team_score['年度']==2010)]['四　球'].values[0]\n",
    "\n",
    "test_value = test_(n1 ,x1, n2, x2)\n",
    "\n",
    "p_value = scipy.stats.norm.sf(test_value)\n",
    "print('p値は{}です。'.format(p_value))"
   ]
  },
  {
   "cell_type": "markdown",
   "metadata": {},
   "source": [
    "- 棄却できませんでした。優位な差があったかどうかはわかりませんでした。\n",
    "- そもそもこうゆう場合現場ではどう判断するんでしょうね。謎。"
   ]
  },
  {
   "cell_type": "code",
   "execution_count": null,
   "metadata": {},
   "outputs": [],
   "source": []
  }
 ],
 "metadata": {
  "kernelspec": {
   "display_name": "Python 3",
   "language": "python",
   "name": "python3"
  },
  "language_info": {
   "codemirror_mode": {
    "name": "ipython",
    "version": 3
   },
   "file_extension": ".py",
   "mimetype": "text/x-python",
   "name": "python",
   "nbconvert_exporter": "python",
   "pygments_lexer": "ipython3",
   "version": "3.6.4"
  }
 },
 "nbformat": 4,
 "nbformat_minor": 2
}
