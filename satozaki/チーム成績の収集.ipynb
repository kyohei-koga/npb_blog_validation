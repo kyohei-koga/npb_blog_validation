{
 "cells": [
  {
   "cell_type": "markdown",
   "metadata": {},
   "source": [
    "# チームの成績取得\n",
    "- チームの成績を取得する。\n",
    "- 年間の順位表を取得する。"
   ]
  },
  {
   "cell_type": "code",
   "execution_count": 1,
   "metadata": {},
   "outputs": [],
   "source": [
    "import requests\n",
    "import lxml.html\n",
    "import pandas as pd\n",
    "import numpy as np\n",
    "import time\n",
    "import sqlite3\n",
    "import re"
   ]
  },
  {
   "cell_type": "code",
   "execution_count": 3,
   "metadata": {},
   "outputs": [
    {
     "name": "stderr",
     "output_type": "stream",
     "text": [
      "/home/kyohei/anaconda2/envs/py36con/lib/python3.6/site-packages/pandas/core/generic.py:1534: UserWarning: The spaces in these column names will not be changed. In pandas versions < 0.14, spaces were converted to underscores.\n",
      "  chunksize=chunksize, dtype=dtype)\n"
     ]
    }
   ],
   "source": [
    "# 過去の成績の一覧ページから、成績表を取得する。\n",
    "response = requests.get('http://npb.jp/bis/yearly/')\n",
    "root = lxml.html.fromstring(response.content)\n",
    "root.make_links_absolute(response.url)\n",
    "# ○○年になっているところに目的のページに行くためのURLが埋め込まれている。\n",
    "years = root.cssselect('.yearlySeason > a')\n",
    "\n",
    "scores = []\n",
    "# 年ごとの勝敗表を取得する。\n",
    "for i, year in enumerate(years):\n",
    "    # 野球連盟のページは取得しない。\n",
    "    if not re.search('yakyuremmei', year.get('href')):\n",
    "        df_score = get_leag_score(year.get('href'))\n",
    "        scores.append(df_score)\n",
    "    \n",
    "#     if i==10:\n",
    "#         break\n",
    "# データを結合する。\n",
    "win_loss_table = pd.concat(scores, axis=0, ignore_index=True)\n",
    "\n",
    "# クロールした結果をデータベースに保存する。\n",
    "conn = sqlite3.connect('players_info.db')\n",
    "c = conn.cursor()\n",
    "win_loss_table.to_sql('win_loss_table', conn, if_exists='replace')\n",
    "\n",
    "conn.commit()\n",
    "conn.close()"
   ]
  },
  {
   "cell_type": "code",
   "execution_count": 2,
   "metadata": {},
   "outputs": [],
   "source": [
    "def get_leag_score(url):\n",
    "    # URLにセントラルかパシフィックかを分ける情報と、何年かの情報が含まれている\n",
    "    # reで判定\n",
    "    time.sleep(1)\n",
    "    if re.search('centralleague', url):\n",
    "        leag_name = 'セントラルリーグ'\n",
    "        year = re.search('(\\d+)', url).group(1)\n",
    "        df = pd.io.html.read_html(url)\n",
    "    else:\n",
    "        leag_name = 'パシフィックリーグ'\n",
    "        year = re.search('(\\d+)', url).group(1)\n",
    "        df = pd.io.html.read_html(url)\n",
    "    # その年のチーム数を取得する。\n",
    "    response = requests.get(url)\n",
    "    root = lxml.html.fromstring(response.content)\n",
    "    teams = root.cssselect('.contentsPadding')\n",
    "    team_no = int(len(teams[0].cssselect('.yearlyMain')) / 2)  # アイテムの個数割る2\n",
    "    \n",
    "    # DataFrameで取得した情報は勝敗表以外の情報も含まれているので、\n",
    "    # 勝敗表の情報に整形する。\n",
    "    # リーグ戦の情報に限定\n",
    "    df_ = df[2].iloc[1:, :8]\n",
    "    # 列名を1行名の値に変更\n",
    "    df_.columns = df_.iloc[0]\n",
    "    # 必要な行に限定して、np.nanの列を削除\n",
    "    df_2 = df_.iloc[1:team_no+1].dropna(axis=1)\n",
    "    # indexを使って順位をつける\n",
    "    df_3 = df_2.reset_index()\n",
    "    df_3['順位'] = df_3['index'] - 1\n",
    "    df_3.drop('index', axis=1, inplace=True)\n",
    "    # 年とリーグ名を追加する\n",
    "    df_3['年'] = year\n",
    "    df_3['リーグ'] = leag_name\n",
    "    df_3['URL'] = url\n",
    "    \n",
    "    return df_3"
   ]
  },
  {
   "cell_type": "code",
   "execution_count": null,
   "metadata": {},
   "outputs": [],
   "source": []
  }
 ],
 "metadata": {
  "kernelspec": {
   "display_name": "Python 3",
   "language": "python",
   "name": "python3"
  },
  "language_info": {
   "codemirror_mode": {
    "name": "ipython",
    "version": 3
   },
   "file_extension": ".py",
   "mimetype": "text/x-python",
   "name": "python",
   "nbconvert_exporter": "python",
   "pygments_lexer": "ipython3",
   "version": "3.6.4"
  }
 },
 "nbformat": 4,
 "nbformat_minor": 2
}
